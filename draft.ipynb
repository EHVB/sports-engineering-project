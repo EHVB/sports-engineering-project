{
 "cells": [
  {
   "cell_type": "code",
   "execution_count": 1,
   "metadata": {},
   "outputs": [],
   "source": [
    "import numpy as np"
   ]
  },
  {
   "cell_type": "code",
   "execution_count": 2,
   "metadata": {},
   "outputs": [],
   "source": [
    "def ball_kick_calculations(distance_from_goal, angle, i_speed):\n",
    "    # calculating time untill ball reach max height\n",
    "    t1 = (i_speed * np.sin(angle*(np.pi/180))) / 9.81\n",
    "    # calculating max height\n",
    "    max_height = (i_speed * t1 * np.sin(angle*(np.pi/180))) - (0.5 * 9.81 * t1**2)\n",
    "    # distance travelled untill  max height\n",
    "    d1 = i_speed * t1 * np.cos(angle*(np.pi/180))\n",
    "    # distance from max height to goal line\n",
    "    d2 = distance_from_goal - d1\n",
    "    # time from max height to goal line\n",
    "    t2 = d2 / (i_speed * np.cos(angle*(np.pi/180)))\n",
    "    # height at goal line\n",
    "    at_goal_height = max_height - (0.5 * 9.81 * t2**2)\n",
    "    \n",
    "    return max_height.round(2), at_goal_height.round(2)"
   ]
  },
  {
   "cell_type": "code",
   "execution_count": 3,
   "metadata": {},
   "outputs": [
    {
     "name": "stdout",
     "output_type": "stream",
     "text": [
      "max height = 2.86 m\n",
      "height at goal line = 1.19 m\n"
     ]
    }
   ],
   "source": [
    "# trying the function with problem 6 in sheet 1\n",
    "max_height, at_goal_height = ball_kick_calculations(25, 22, 20)\n",
    "print(f\"max height = {max_height} m\")\n",
    "print(f\"height at goal line = {at_goal_height} m\")"
   ]
  },
  {
   "attachments": {},
   "cell_type": "markdown",
   "metadata": {},
   "source": [
    "### Correct Answer !"
   ]
  }
 ],
 "metadata": {
  "kernelspec": {
   "display_name": "base",
   "language": "python",
   "name": "python3"
  },
  "language_info": {
   "codemirror_mode": {
    "name": "ipython",
    "version": 3
   },
   "file_extension": ".py",
   "mimetype": "text/x-python",
   "name": "python",
   "nbconvert_exporter": "python",
   "pygments_lexer": "ipython3",
   "version": "3.9.12"
  },
  "orig_nbformat": 4
 },
 "nbformat": 4,
 "nbformat_minor": 2
}
